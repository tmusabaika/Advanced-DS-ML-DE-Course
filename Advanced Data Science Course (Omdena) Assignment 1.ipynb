{
 "cells": [
  {
   "cell_type": "markdown",
   "id": "b08a05f4",
   "metadata": {},
   "source": [
    "# Foundations of Data Science: Practical Assignment 1"
   ]
  },
  {
   "cell_type": "markdown",
   "id": "bfe8db7a",
   "metadata": {},
   "source": [
    "## Task 1: Introduction to Data Science (10 marks)"
   ]
  },
  {
   "cell_type": "markdown",
   "id": "7e4b5525",
   "metadata": {},
   "source": [
    "### Data Science Overview (3 marks)\n",
    "- Provide a brief explanation of what data science is and its significance in various industries.\n",
    "\n",
    "Data science is the study of data to extract meaningful insights for decision making. It is a multidisciplinary approach that combines principles and practices from the fields of mathematics, statistics, computer science and domain expertise to analyse large amounts of data. Data Science utilises scientific methods, processes, algorithms, and systems to extract insights and knowledge from structured and unstructured data.\n",
    "\n",
    "Data Science involves the integration of skills from different domains such as statistics, mathematics, computer science, domain expertise, and domain-specific knowledge. It aims to uncover patterns, trends, correlations, and actionable insights from data that can be used to support decision-making, solve problems, optimize processes, and drive innovation across various industries and domains.\n",
    "\n",
    "### Key components of Data Science include:\n",
    "\n",
    "**Data Collection:** Gathering relevant data from various sources such as databases, websites, APIs, sensors, and IoT devices.\n",
    "\n",
    "**Data Cleaning and Preprocessing:** Removing inconsistencies, errors, and missing values from the data, and preparing it for analysis.\n",
    "\n",
    "**Exploratory Data Analysis (EDA):** Exploring and visualizing the data to gain insights, identify patterns, and understand the underlying structure.\n",
    "\n",
    "**Statistical Analysis:** Applying statistical methods and techniques to quantify relationships, test hypotheses, and derive meaningful conclusions from the data.\n",
    "\n",
    "**Machine Learning:** Developing and deploying algorithms that can learn from data, make predictions, and automate decision-making tasks.\n",
    "\n",
    "**Data Visualization:** Creating visual representations of data using charts, graphs, and interactive dashboards to communicate findings effectively.\n",
    "\n",
    "**Data Interpretation and Communication:** Interpreting the results of analysis and communicating insights to stakeholders in a clear and understandable manner.\n",
    "\n",
    "Data Science is widely used across various industries such as finance, healthcare, retail, marketing, and technology to drive innovation, improve efficiency, and gain a competitive advantage. The ability to infer from sample data and make near accurate conclusions about the population, the ability to forescast and/or predict events or outcomes has been the revolution that drives organisations."
   ]
  },
  {
   "cell_type": "markdown",
   "id": "b16d9aa0",
   "metadata": {},
   "source": [
    "### Setting up the environment (2 marks)\n",
    "\n",
    "- Install necessary Python libraries for data science (e.g., NumPy, Pandas, Matplotlib) using Jupyter Notebook cells."
   ]
  },
  {
   "cell_type": "markdown",
   "id": "66b131b3",
   "metadata": {},
   "source": [
    "Data Science distributions such as **Anaconda** usually comes pre-installed with the most common Data Science programming languages like **Python** and **R** and Data Science libraries like pandas, numpy, scipy, matplotlib, scikit-learn. However if you need to install it can be done as follows:\n",
    "\n",
    "- `!pip install pandas`\n",
    "- `!pip install numpy`\n",
    "- `!pip install matplotlib`\n",
    "\n",
    "If you have any issues with ssl_verification add the trusted-host flag e.g.: `!pip install pandas --trusted-host pypi.org --trusted-host files.pythonhosted.org`"
   ]
  },
  {
   "cell_type": "markdown",
   "id": "5cc9fbf4",
   "metadata": {},
   "source": [
    "### Loading and Displaying Data (5 marks):\n",
    "- Import a dataset of your choice (e.g., CSV or Excel file) using Pandas.\n",
    "- Display the first few rows of the dataset to understand its structure."
   ]
  },
  {
   "cell_type": "code",
   "execution_count": 1,
   "id": "50f455a5",
   "metadata": {},
   "outputs": [],
   "source": [
    "# Importing the necessary libraries\n",
    "import pandas as pd\n",
    "import numpy as np\n",
    "import matplotlib.pyplot as plt\n",
    "import seaborn as sns"
   ]
  },
  {
   "cell_type": "code",
   "execution_count": 2,
   "id": "e3abef94",
   "metadata": {},
   "outputs": [],
   "source": [
    "# Importing the dataset\n",
    "df = pd.read_excel('./01 Call-Center-Dataset.xlsx')"
   ]
  },
  {
   "cell_type": "markdown",
   "id": "cee7a166",
   "metadata": {},
   "source": [
    "### Understanding the structure of the dataset"
   ]
  },
  {
   "cell_type": "code",
   "execution_count": 3,
   "id": "c3c8c7da",
   "metadata": {},
   "outputs": [
    {
     "data": {
      "text/html": [
       "<div>\n",
       "<style scoped>\n",
       "    .dataframe tbody tr th:only-of-type {\n",
       "        vertical-align: middle;\n",
       "    }\n",
       "\n",
       "    .dataframe tbody tr th {\n",
       "        vertical-align: top;\n",
       "    }\n",
       "\n",
       "    .dataframe thead th {\n",
       "        text-align: right;\n",
       "    }\n",
       "</style>\n",
       "<table border=\"1\" class=\"dataframe\">\n",
       "  <thead>\n",
       "    <tr style=\"text-align: right;\">\n",
       "      <th></th>\n",
       "      <th>Call Id</th>\n",
       "      <th>Agent</th>\n",
       "      <th>Date</th>\n",
       "      <th>Time</th>\n",
       "      <th>Topic</th>\n",
       "      <th>Answered (Y/N)</th>\n",
       "      <th>Resolved</th>\n",
       "      <th>Speed of answer in seconds</th>\n",
       "      <th>AvgTalkDuration</th>\n",
       "      <th>Satisfaction rating</th>\n",
       "    </tr>\n",
       "  </thead>\n",
       "  <tbody>\n",
       "    <tr>\n",
       "      <th>0</th>\n",
       "      <td>ID0001</td>\n",
       "      <td>Diane</td>\n",
       "      <td>2021-01-01</td>\n",
       "      <td>09:12:58</td>\n",
       "      <td>Contract related</td>\n",
       "      <td>Y</td>\n",
       "      <td>Y</td>\n",
       "      <td>109.0</td>\n",
       "      <td>00:02:23</td>\n",
       "      <td>3.0</td>\n",
       "    </tr>\n",
       "    <tr>\n",
       "      <th>1</th>\n",
       "      <td>ID0002</td>\n",
       "      <td>Becky</td>\n",
       "      <td>2021-01-01</td>\n",
       "      <td>09:12:58</td>\n",
       "      <td>Technical Support</td>\n",
       "      <td>Y</td>\n",
       "      <td>N</td>\n",
       "      <td>70.0</td>\n",
       "      <td>00:04:02</td>\n",
       "      <td>3.0</td>\n",
       "    </tr>\n",
       "    <tr>\n",
       "      <th>2</th>\n",
       "      <td>ID0003</td>\n",
       "      <td>Stewart</td>\n",
       "      <td>2021-01-01</td>\n",
       "      <td>09:47:31</td>\n",
       "      <td>Contract related</td>\n",
       "      <td>Y</td>\n",
       "      <td>Y</td>\n",
       "      <td>10.0</td>\n",
       "      <td>00:02:11</td>\n",
       "      <td>3.0</td>\n",
       "    </tr>\n",
       "    <tr>\n",
       "      <th>3</th>\n",
       "      <td>ID0004</td>\n",
       "      <td>Greg</td>\n",
       "      <td>2021-01-01</td>\n",
       "      <td>09:47:31</td>\n",
       "      <td>Contract related</td>\n",
       "      <td>Y</td>\n",
       "      <td>Y</td>\n",
       "      <td>53.0</td>\n",
       "      <td>00:00:37</td>\n",
       "      <td>2.0</td>\n",
       "    </tr>\n",
       "    <tr>\n",
       "      <th>4</th>\n",
       "      <td>ID0005</td>\n",
       "      <td>Becky</td>\n",
       "      <td>2021-01-01</td>\n",
       "      <td>10:00:29</td>\n",
       "      <td>Payment related</td>\n",
       "      <td>Y</td>\n",
       "      <td>Y</td>\n",
       "      <td>95.0</td>\n",
       "      <td>00:01:00</td>\n",
       "      <td>3.0</td>\n",
       "    </tr>\n",
       "  </tbody>\n",
       "</table>\n",
       "</div>"
      ],
      "text/plain": [
       "  Call Id    Agent        Date      Time              Topic Answered (Y/N)  \\\n",
       "0  ID0001    Diane  2021-01-01  09:12:58   Contract related              Y   \n",
       "1  ID0002    Becky  2021-01-01  09:12:58  Technical Support              Y   \n",
       "2  ID0003  Stewart  2021-01-01  09:47:31   Contract related              Y   \n",
       "3  ID0004     Greg  2021-01-01  09:47:31   Contract related              Y   \n",
       "4  ID0005    Becky  2021-01-01  10:00:29    Payment related              Y   \n",
       "\n",
       "  Resolved  Speed of answer in seconds AvgTalkDuration  Satisfaction rating  \n",
       "0        Y                       109.0        00:02:23                  3.0  \n",
       "1        N                        70.0        00:04:02                  3.0  \n",
       "2        Y                        10.0        00:02:11                  3.0  \n",
       "3        Y                        53.0        00:00:37                  2.0  \n",
       "4        Y                        95.0        00:01:00                  3.0  "
      ]
     },
     "metadata": {},
     "output_type": "display_data"
    },
    {
     "data": {
      "text/html": [
       "<div>\n",
       "<style scoped>\n",
       "    .dataframe tbody tr th:only-of-type {\n",
       "        vertical-align: middle;\n",
       "    }\n",
       "\n",
       "    .dataframe tbody tr th {\n",
       "        vertical-align: top;\n",
       "    }\n",
       "\n",
       "    .dataframe thead th {\n",
       "        text-align: right;\n",
       "    }\n",
       "</style>\n",
       "<table border=\"1\" class=\"dataframe\">\n",
       "  <thead>\n",
       "    <tr style=\"text-align: right;\">\n",
       "      <th></th>\n",
       "      <th>Call Id</th>\n",
       "      <th>Agent</th>\n",
       "      <th>Date</th>\n",
       "      <th>Time</th>\n",
       "      <th>Topic</th>\n",
       "      <th>Answered (Y/N)</th>\n",
       "      <th>Resolved</th>\n",
       "      <th>Speed of answer in seconds</th>\n",
       "      <th>AvgTalkDuration</th>\n",
       "      <th>Satisfaction rating</th>\n",
       "    </tr>\n",
       "  </thead>\n",
       "  <tbody>\n",
       "    <tr>\n",
       "      <th>4995</th>\n",
       "      <td>ID4996</td>\n",
       "      <td>Jim</td>\n",
       "      <td>2021-03-31</td>\n",
       "      <td>16:37:55</td>\n",
       "      <td>Payment related</td>\n",
       "      <td>Y</td>\n",
       "      <td>Y</td>\n",
       "      <td>22.0</td>\n",
       "      <td>00:05:40</td>\n",
       "      <td>1.0</td>\n",
       "    </tr>\n",
       "    <tr>\n",
       "      <th>4996</th>\n",
       "      <td>ID4997</td>\n",
       "      <td>Diane</td>\n",
       "      <td>2021-03-31</td>\n",
       "      <td>16:45:07</td>\n",
       "      <td>Payment related</td>\n",
       "      <td>Y</td>\n",
       "      <td>Y</td>\n",
       "      <td>100.0</td>\n",
       "      <td>00:03:16</td>\n",
       "      <td>3.0</td>\n",
       "    </tr>\n",
       "    <tr>\n",
       "      <th>4997</th>\n",
       "      <td>ID4998</td>\n",
       "      <td>Diane</td>\n",
       "      <td>2021-03-31</td>\n",
       "      <td>16:53:46</td>\n",
       "      <td>Payment related</td>\n",
       "      <td>Y</td>\n",
       "      <td>Y</td>\n",
       "      <td>84.0</td>\n",
       "      <td>00:01:49</td>\n",
       "      <td>4.0</td>\n",
       "    </tr>\n",
       "    <tr>\n",
       "      <th>4998</th>\n",
       "      <td>ID4999</td>\n",
       "      <td>Jim</td>\n",
       "      <td>2021-03-31</td>\n",
       "      <td>17:02:24</td>\n",
       "      <td>Streaming</td>\n",
       "      <td>Y</td>\n",
       "      <td>Y</td>\n",
       "      <td>98.0</td>\n",
       "      <td>00:00:58</td>\n",
       "      <td>5.0</td>\n",
       "    </tr>\n",
       "    <tr>\n",
       "      <th>4999</th>\n",
       "      <td>ID5000</td>\n",
       "      <td>Diane</td>\n",
       "      <td>2021-03-31</td>\n",
       "      <td>17:39:50</td>\n",
       "      <td>Contract related</td>\n",
       "      <td>N</td>\n",
       "      <td>N</td>\n",
       "      <td>NaN</td>\n",
       "      <td>NaN</td>\n",
       "      <td>NaN</td>\n",
       "    </tr>\n",
       "  </tbody>\n",
       "</table>\n",
       "</div>"
      ],
      "text/plain": [
       "     Call Id  Agent        Date      Time             Topic Answered (Y/N)  \\\n",
       "4995  ID4996    Jim  2021-03-31  16:37:55   Payment related              Y   \n",
       "4996  ID4997  Diane  2021-03-31  16:45:07   Payment related              Y   \n",
       "4997  ID4998  Diane  2021-03-31  16:53:46   Payment related              Y   \n",
       "4998  ID4999    Jim  2021-03-31  17:02:24         Streaming              Y   \n",
       "4999  ID5000  Diane  2021-03-31  17:39:50  Contract related              N   \n",
       "\n",
       "     Resolved  Speed of answer in seconds AvgTalkDuration  Satisfaction rating  \n",
       "4995        Y                        22.0        00:05:40                  1.0  \n",
       "4996        Y                       100.0        00:03:16                  3.0  \n",
       "4997        Y                        84.0        00:01:49                  4.0  \n",
       "4998        Y                        98.0        00:00:58                  5.0  \n",
       "4999        N                         NaN             NaN                  NaN  "
      ]
     },
     "metadata": {},
     "output_type": "display_data"
    }
   ],
   "source": [
    "# Checking the first and last few rows\n",
    "display(\n",
    "    df.head(),\n",
    "    df.tail()\n",
    ")"
   ]
  },
  {
   "cell_type": "code",
   "execution_count": 4,
   "id": "3a896706",
   "metadata": {},
   "outputs": [
    {
     "name": "stdout",
     "output_type": "stream",
     "text": [
      "The dataset has:\n",
      "5000 rows\n",
      "10 columns.\n"
     ]
    }
   ],
   "source": [
    "# Checking the shape of the dataset to understand how many rows and cloumns it has\n",
    "\n",
    "print(f'The dataset has:') \n",
    "print(f'{df.shape[0]} rows') \n",
    "print(f'{df.shape[1]} columns.')"
   ]
  },
  {
   "cell_type": "code",
   "execution_count": 5,
   "id": "3dc48ede",
   "metadata": {},
   "outputs": [],
   "source": [
    "# Understand some further details about the data and its structures"
   ]
  },
  {
   "cell_type": "code",
   "execution_count": 6,
   "id": "c86a196f",
   "metadata": {},
   "outputs": [
    {
     "data": {
      "text/html": [
       "<div>\n",
       "<style scoped>\n",
       "    .dataframe tbody tr th:only-of-type {\n",
       "        vertical-align: middle;\n",
       "    }\n",
       "\n",
       "    .dataframe tbody tr th {\n",
       "        vertical-align: top;\n",
       "    }\n",
       "\n",
       "    .dataframe thead th {\n",
       "        text-align: right;\n",
       "    }\n",
       "</style>\n",
       "<table border=\"1\" class=\"dataframe\">\n",
       "  <thead>\n",
       "    <tr style=\"text-align: right;\">\n",
       "      <th></th>\n",
       "      <th>Speed of answer in seconds</th>\n",
       "      <th>Satisfaction rating</th>\n",
       "    </tr>\n",
       "  </thead>\n",
       "  <tbody>\n",
       "    <tr>\n",
       "      <th>count</th>\n",
       "      <td>4054.000000</td>\n",
       "      <td>4054.000000</td>\n",
       "    </tr>\n",
       "    <tr>\n",
       "      <th>mean</th>\n",
       "      <td>67.520720</td>\n",
       "      <td>3.403552</td>\n",
       "    </tr>\n",
       "    <tr>\n",
       "      <th>std</th>\n",
       "      <td>33.592872</td>\n",
       "      <td>1.212220</td>\n",
       "    </tr>\n",
       "    <tr>\n",
       "      <th>min</th>\n",
       "      <td>10.000000</td>\n",
       "      <td>1.000000</td>\n",
       "    </tr>\n",
       "    <tr>\n",
       "      <th>25%</th>\n",
       "      <td>39.000000</td>\n",
       "      <td>3.000000</td>\n",
       "    </tr>\n",
       "    <tr>\n",
       "      <th>50%</th>\n",
       "      <td>68.000000</td>\n",
       "      <td>3.000000</td>\n",
       "    </tr>\n",
       "    <tr>\n",
       "      <th>75%</th>\n",
       "      <td>97.000000</td>\n",
       "      <td>4.000000</td>\n",
       "    </tr>\n",
       "    <tr>\n",
       "      <th>max</th>\n",
       "      <td>125.000000</td>\n",
       "      <td>5.000000</td>\n",
       "    </tr>\n",
       "  </tbody>\n",
       "</table>\n",
       "</div>"
      ],
      "text/plain": [
       "       Speed of answer in seconds  Satisfaction rating\n",
       "count                 4054.000000          4054.000000\n",
       "mean                    67.520720             3.403552\n",
       "std                     33.592872             1.212220\n",
       "min                     10.000000             1.000000\n",
       "25%                     39.000000             3.000000\n",
       "50%                     68.000000             3.000000\n",
       "75%                     97.000000             4.000000\n",
       "max                    125.000000             5.000000"
      ]
     },
     "execution_count": 6,
     "metadata": {},
     "output_type": "execute_result"
    }
   ],
   "source": [
    "df.describe()"
   ]
  },
  {
   "cell_type": "code",
   "execution_count": 7,
   "id": "0a36e505",
   "metadata": {},
   "outputs": [
    {
     "name": "stdout",
     "output_type": "stream",
     "text": [
      "<class 'pandas.core.frame.DataFrame'>\n",
      "RangeIndex: 5000 entries, 0 to 4999\n",
      "Data columns (total 10 columns):\n",
      " #   Column                      Non-Null Count  Dtype  \n",
      "---  ------                      --------------  -----  \n",
      " 0   Call Id                     5000 non-null   object \n",
      " 1   Agent                       5000 non-null   object \n",
      " 2   Date                        5000 non-null   object \n",
      " 3   Time                        5000 non-null   object \n",
      " 4   Topic                       5000 non-null   object \n",
      " 5   Answered (Y/N)              5000 non-null   object \n",
      " 6   Resolved                    5000 non-null   object \n",
      " 7   Speed of answer in seconds  4054 non-null   float64\n",
      " 8   AvgTalkDuration             4054 non-null   object \n",
      " 9   Satisfaction rating         4054 non-null   float64\n",
      "dtypes: float64(2), object(8)\n",
      "memory usage: 390.8+ KB\n"
     ]
    }
   ],
   "source": [
    "df.info()"
   ]
  },
  {
   "cell_type": "code",
   "execution_count": 8,
   "id": "2ffc35fb",
   "metadata": {},
   "outputs": [
    {
     "data": {
      "text/plain": [
       "Call Id                        object\n",
       "Agent                          object\n",
       "Date                           object\n",
       "Time                           object\n",
       "Topic                          object\n",
       "Answered (Y/N)                 object\n",
       "Resolved                       object\n",
       "Speed of answer in seconds    float64\n",
       "AvgTalkDuration                object\n",
       "Satisfaction rating           float64\n",
       "dtype: object"
      ]
     },
     "execution_count": 8,
     "metadata": {},
     "output_type": "execute_result"
    }
   ],
   "source": [
    "# check for data types incase some are improperly represented eg Satisfaction rating is a categorical var saved as a float \n",
    "df.dtypes"
   ]
  },
  {
   "cell_type": "code",
   "execution_count": 9,
   "id": "add45ae9",
   "metadata": {},
   "outputs": [
    {
     "data": {
      "text/plain": [
       "Call Id                         0\n",
       "Agent                           0\n",
       "Date                            0\n",
       "Time                            0\n",
       "Topic                           0\n",
       "Answered (Y/N)                  0\n",
       "Resolved                        0\n",
       "Speed of answer in seconds    946\n",
       "AvgTalkDuration               946\n",
       "Satisfaction rating           946\n",
       "dtype: int64"
      ]
     },
     "execution_count": 9,
     "metadata": {},
     "output_type": "execute_result"
    }
   ],
   "source": [
    "# Check for any null values\n",
    "df.isnull().sum()"
   ]
  },
  {
   "cell_type": "code",
   "execution_count": 10,
   "id": "8e07861e",
   "metadata": {},
   "outputs": [],
   "source": [
    "# drop null values\n",
    "df = df.dropna()"
   ]
  },
  {
   "cell_type": "code",
   "execution_count": 11,
   "id": "7bb39e8d",
   "metadata": {},
   "outputs": [
    {
     "data": {
      "text/plain": [
       "Call Id                       0\n",
       "Agent                         0\n",
       "Date                          0\n",
       "Time                          0\n",
       "Topic                         0\n",
       "Answered (Y/N)                0\n",
       "Resolved                      0\n",
       "Speed of answer in seconds    0\n",
       "AvgTalkDuration               0\n",
       "Satisfaction rating           0\n",
       "dtype: int64"
      ]
     },
     "execution_count": 11,
     "metadata": {},
     "output_type": "execute_result"
    }
   ],
   "source": [
    "# check again for null values\n",
    "df.isnull().sum()"
   ]
  },
  {
   "cell_type": "code",
   "execution_count": 13,
   "id": "9125f27f",
   "metadata": {},
   "outputs": [],
   "source": [
    "assert (df.isnull().sum()==0).all() \n",
    "# assestion that there are no null values for larger datasets with too many columns that may not all be displayed on the screen.\n",
    "# no error output indicating this is a True assertion"
   ]
  },
  {
   "cell_type": "markdown",
   "id": "cdba9e4b",
   "metadata": {},
   "source": [
    "## Task 2: Core Concepts and Principles (15 marks)"
   ]
  },
  {
   "cell_type": "markdown",
   "id": "a6918d0e",
   "metadata": {},
   "source": [
    "#### Data Types and Structures (4 marks):\n",
    "- Create variables representing different data types (integer, float, string).\n",
    "- Explore and demonstrate basic operations on these variables."
   ]
  },
  {
   "cell_type": "code",
   "execution_count": 14,
   "id": "e57e3893",
   "metadata": {},
   "outputs": [
    {
     "data": {
      "text/plain": [
       "bool"
      ]
     },
     "execution_count": 14,
     "metadata": {},
     "output_type": "execute_result"
    }
   ],
   "source": [
    "# Boolean\n",
    "flag = True\n",
    "type(flag)"
   ]
  },
  {
   "cell_type": "code",
   "execution_count": 15,
   "id": "55534c96",
   "metadata": {},
   "outputs": [
    {
     "data": {
      "text/plain": [
       "(str, str)"
      ]
     },
     "execution_count": 15,
     "metadata": {},
     "output_type": "execute_result"
    }
   ],
   "source": [
    "# string/object\n",
    "name = 'Tawanda'\n",
    "surname = 'Musabaika'\n",
    "type(name), type(surname)"
   ]
  },
  {
   "cell_type": "code",
   "execution_count": 16,
   "id": "f9a02516",
   "metadata": {},
   "outputs": [
    {
     "data": {
      "text/plain": [
       "float"
      ]
     },
     "execution_count": 16,
     "metadata": {},
     "output_type": "execute_result"
    }
   ],
   "source": [
    "#float\n",
    "m = 0.951\n",
    "type(m)"
   ]
  },
  {
   "cell_type": "code",
   "execution_count": 17,
   "id": "9ffc758d",
   "metadata": {},
   "outputs": [
    {
     "data": {
      "text/plain": [
       "(int, int)"
      ]
     },
     "execution_count": 17,
     "metadata": {},
     "output_type": "execute_result"
    }
   ],
   "source": [
    "#integer\n",
    "x = 9\n",
    "c = 1\n",
    "type(x), type(c)"
   ]
  },
  {
   "cell_type": "markdown",
   "id": "5f2ee8ba",
   "metadata": {},
   "source": [
    "#### Basic Operations on the variables"
   ]
  },
  {
   "cell_type": "code",
   "execution_count": 18,
   "id": "402dfbc4",
   "metadata": {},
   "outputs": [
    {
     "name": "stdout",
     "output_type": "stream",
     "text": [
      "The condition is True\n"
     ]
    }
   ],
   "source": [
    "# comparison or logic with boolean variables\n",
    "if flag:\n",
    "    print(f'The condition is {flag}')\n",
    "else:\n",
    "    print('The condition is False')"
   ]
  },
  {
   "cell_type": "markdown",
   "id": "634f8021",
   "metadata": {},
   "source": [
    "### Addition and multiplication\n",
    "$$ y = mx + c $$"
   ]
  },
  {
   "cell_type": "code",
   "execution_count": 19,
   "id": "ef418294",
   "metadata": {},
   "outputs": [
    {
     "data": {
      "text/plain": [
       "(9.559, float)"
      ]
     },
     "execution_count": 19,
     "metadata": {},
     "output_type": "execute_result"
    }
   ],
   "source": [
    "# arithmetic with numeric variabes float and int\n",
    "# Any numeric arithmetic operation involving a float will result in a float\n",
    "y = m*x + c \n",
    "y, type(y)"
   ]
  },
  {
   "cell_type": "markdown",
   "id": "26812fc3",
   "metadata": {},
   "source": [
    "### Division and subtraction\n",
    "$$ m = \\frac{{y - c}}{{x}}$$"
   ]
  },
  {
   "cell_type": "code",
   "execution_count": 20,
   "id": "f0db8bf3",
   "metadata": {},
   "outputs": [
    {
     "data": {
      "text/plain": [
       "(0.951, float)"
      ]
     },
     "execution_count": 20,
     "metadata": {},
     "output_type": "execute_result"
    }
   ],
   "source": [
    "m = (y - c)/x \n",
    "m, type(m)"
   ]
  },
  {
   "cell_type": "markdown",
   "id": "05e52128",
   "metadata": {},
   "source": [
    "### Rounding "
   ]
  },
  {
   "cell_type": "code",
   "execution_count": 21,
   "id": "60db256a",
   "metadata": {},
   "outputs": [
    {
     "data": {
      "text/plain": [
       "9.56"
      ]
     },
     "execution_count": 21,
     "metadata": {},
     "output_type": "execute_result"
    }
   ],
   "source": [
    "round(y,2) # round y to 2 decimal places"
   ]
  },
  {
   "cell_type": "code",
   "execution_count": 22,
   "id": "c9da9025",
   "metadata": {},
   "outputs": [
    {
     "data": {
      "text/plain": [
       "9"
      ]
     },
     "execution_count": 22,
     "metadata": {},
     "output_type": "execute_result"
    }
   ],
   "source": [
    "int(y) # truncating the decimal part to conver to int"
   ]
  },
  {
   "cell_type": "markdown",
   "id": "c8f768f8",
   "metadata": {},
   "source": [
    "### String concatenation"
   ]
  },
  {
   "cell_type": "code",
   "execution_count": 23,
   "id": "41ab37ff",
   "metadata": {},
   "outputs": [
    {
     "data": {
      "text/plain": [
       "('Tawanda Musabaika', str)"
      ]
     },
     "execution_count": 23,
     "metadata": {},
     "output_type": "execute_result"
    }
   ],
   "source": [
    "full_name = name + ' ' + surname\n",
    "full_name, type(full_name)"
   ]
  },
  {
   "cell_type": "markdown",
   "id": "b42e864e",
   "metadata": {},
   "source": [
    "### String manipulation"
   ]
  },
  {
   "cell_type": "code",
   "execution_count": 24,
   "id": "78d196c0",
   "metadata": {},
   "outputs": [
    {
     "data": {
      "text/plain": [
       "['Tawanda', 'Musabaika']"
      ]
     },
     "execution_count": 24,
     "metadata": {},
     "output_type": "execute_result"
    }
   ],
   "source": [
    "# split strings\n",
    "split_name = full_name.split(' ')\n",
    "split_name"
   ]
  },
  {
   "cell_type": "code",
   "execution_count": 25,
   "id": "2ea55728",
   "metadata": {},
   "outputs": [
    {
     "data": {
      "text/plain": [
       "'Tawanda Musabaika'"
      ]
     },
     "execution_count": 25,
     "metadata": {},
     "output_type": "execute_result"
    }
   ],
   "source": [
    "# join strings\n",
    "joined_name = ' '.join(split_name)\n",
    "joined_name"
   ]
  },
  {
   "cell_type": "markdown",
   "id": "6351b7c4",
   "metadata": {},
   "source": [
    "#### Data Manipulation (5 marks):\n",
    "- Apply data manipulation techniques using Pandas.\n",
    "- Perform tasks such as filtering, sorting, and grouping on the loaded dataset."
   ]
  },
  {
   "cell_type": "code",
   "execution_count": 26,
   "id": "1d44e852",
   "metadata": {},
   "outputs": [
    {
     "data": {
      "text/html": [
       "<div>\n",
       "<style scoped>\n",
       "    .dataframe tbody tr th:only-of-type {\n",
       "        vertical-align: middle;\n",
       "    }\n",
       "\n",
       "    .dataframe tbody tr th {\n",
       "        vertical-align: top;\n",
       "    }\n",
       "\n",
       "    .dataframe thead th {\n",
       "        text-align: right;\n",
       "    }\n",
       "</style>\n",
       "<table border=\"1\" class=\"dataframe\">\n",
       "  <thead>\n",
       "    <tr style=\"text-align: right;\">\n",
       "      <th></th>\n",
       "      <th>Call Id</th>\n",
       "      <th>Agent</th>\n",
       "      <th>Date</th>\n",
       "      <th>Time</th>\n",
       "      <th>Topic</th>\n",
       "      <th>Answered (Y/N)</th>\n",
       "      <th>Resolved</th>\n",
       "      <th>Speed of answer in seconds</th>\n",
       "      <th>AvgTalkDuration</th>\n",
       "      <th>Satisfaction rating</th>\n",
       "    </tr>\n",
       "  </thead>\n",
       "  <tbody>\n",
       "    <tr>\n",
       "      <th>1</th>\n",
       "      <td>ID0002</td>\n",
       "      <td>Becky</td>\n",
       "      <td>2021-01-01</td>\n",
       "      <td>09:12:58</td>\n",
       "      <td>Technical Support</td>\n",
       "      <td>Y</td>\n",
       "      <td>N</td>\n",
       "      <td>70.0</td>\n",
       "      <td>00:04:02</td>\n",
       "      <td>3.0</td>\n",
       "    </tr>\n",
       "    <tr>\n",
       "      <th>33</th>\n",
       "      <td>ID0034</td>\n",
       "      <td>Jim</td>\n",
       "      <td>2021-01-01</td>\n",
       "      <td>13:33:36</td>\n",
       "      <td>Payment related</td>\n",
       "      <td>Y</td>\n",
       "      <td>N</td>\n",
       "      <td>53.0</td>\n",
       "      <td>00:01:44</td>\n",
       "      <td>2.0</td>\n",
       "    </tr>\n",
       "    <tr>\n",
       "      <th>36</th>\n",
       "      <td>ID0037</td>\n",
       "      <td>Martha</td>\n",
       "      <td>2021-01-01</td>\n",
       "      <td>13:42:14</td>\n",
       "      <td>Technical Support</td>\n",
       "      <td>Y</td>\n",
       "      <td>N</td>\n",
       "      <td>20.0</td>\n",
       "      <td>00:01:12</td>\n",
       "      <td>2.0</td>\n",
       "    </tr>\n",
       "    <tr>\n",
       "      <th>65</th>\n",
       "      <td>ID0066</td>\n",
       "      <td>Diane</td>\n",
       "      <td>2021-01-02</td>\n",
       "      <td>09:38:53</td>\n",
       "      <td>Technical Support</td>\n",
       "      <td>Y</td>\n",
       "      <td>N</td>\n",
       "      <td>90.0</td>\n",
       "      <td>00:01:23</td>\n",
       "      <td>4.0</td>\n",
       "    </tr>\n",
       "    <tr>\n",
       "      <th>72</th>\n",
       "      <td>ID0073</td>\n",
       "      <td>Greg</td>\n",
       "      <td>2021-01-02</td>\n",
       "      <td>11:26:53</td>\n",
       "      <td>Payment related</td>\n",
       "      <td>Y</td>\n",
       "      <td>N</td>\n",
       "      <td>10.0</td>\n",
       "      <td>00:02:19</td>\n",
       "      <td>5.0</td>\n",
       "    </tr>\n",
       "    <tr>\n",
       "      <th>...</th>\n",
       "      <td>...</td>\n",
       "      <td>...</td>\n",
       "      <td>...</td>\n",
       "      <td>...</td>\n",
       "      <td>...</td>\n",
       "      <td>...</td>\n",
       "      <td>...</td>\n",
       "      <td>...</td>\n",
       "      <td>...</td>\n",
       "      <td>...</td>\n",
       "    </tr>\n",
       "    <tr>\n",
       "      <th>4939</th>\n",
       "      <td>ID4940</td>\n",
       "      <td>Joe</td>\n",
       "      <td>2021-03-29</td>\n",
       "      <td>15:43:12</td>\n",
       "      <td>Technical Support</td>\n",
       "      <td>Y</td>\n",
       "      <td>N</td>\n",
       "      <td>27.0</td>\n",
       "      <td>00:06:48</td>\n",
       "      <td>1.0</td>\n",
       "    </tr>\n",
       "    <tr>\n",
       "      <th>4957</th>\n",
       "      <td>ID4958</td>\n",
       "      <td>Becky</td>\n",
       "      <td>2021-03-30</td>\n",
       "      <td>12:46:05</td>\n",
       "      <td>Payment related</td>\n",
       "      <td>Y</td>\n",
       "      <td>N</td>\n",
       "      <td>116.0</td>\n",
       "      <td>00:03:05</td>\n",
       "      <td>4.0</td>\n",
       "    </tr>\n",
       "    <tr>\n",
       "      <th>4962</th>\n",
       "      <td>ID4963</td>\n",
       "      <td>Greg</td>\n",
       "      <td>2021-03-30</td>\n",
       "      <td>15:36:00</td>\n",
       "      <td>Admin Support</td>\n",
       "      <td>Y</td>\n",
       "      <td>N</td>\n",
       "      <td>22.0</td>\n",
       "      <td>00:04:45</td>\n",
       "      <td>4.0</td>\n",
       "    </tr>\n",
       "    <tr>\n",
       "      <th>4985</th>\n",
       "      <td>ID4986</td>\n",
       "      <td>Diane</td>\n",
       "      <td>2021-03-31</td>\n",
       "      <td>12:50:24</td>\n",
       "      <td>Streaming</td>\n",
       "      <td>Y</td>\n",
       "      <td>N</td>\n",
       "      <td>55.0</td>\n",
       "      <td>00:02:01</td>\n",
       "      <td>1.0</td>\n",
       "    </tr>\n",
       "    <tr>\n",
       "      <th>4986</th>\n",
       "      <td>ID4987</td>\n",
       "      <td>Stewart</td>\n",
       "      <td>2021-03-31</td>\n",
       "      <td>13:01:55</td>\n",
       "      <td>Payment related</td>\n",
       "      <td>Y</td>\n",
       "      <td>N</td>\n",
       "      <td>10.0</td>\n",
       "      <td>00:02:26</td>\n",
       "      <td>4.0</td>\n",
       "    </tr>\n",
       "  </tbody>\n",
       "</table>\n",
       "<p>408 rows × 10 columns</p>\n",
       "</div>"
      ],
      "text/plain": [
       "     Call Id    Agent        Date      Time              Topic Answered (Y/N)  \\\n",
       "1     ID0002    Becky  2021-01-01  09:12:58  Technical Support              Y   \n",
       "33    ID0034      Jim  2021-01-01  13:33:36    Payment related              Y   \n",
       "36    ID0037   Martha  2021-01-01  13:42:14  Technical Support              Y   \n",
       "65    ID0066    Diane  2021-01-02  09:38:53  Technical Support              Y   \n",
       "72    ID0073     Greg  2021-01-02  11:26:53    Payment related              Y   \n",
       "...      ...      ...         ...       ...                ...            ...   \n",
       "4939  ID4940      Joe  2021-03-29  15:43:12  Technical Support              Y   \n",
       "4957  ID4958    Becky  2021-03-30  12:46:05    Payment related              Y   \n",
       "4962  ID4963     Greg  2021-03-30  15:36:00      Admin Support              Y   \n",
       "4985  ID4986    Diane  2021-03-31  12:50:24          Streaming              Y   \n",
       "4986  ID4987  Stewart  2021-03-31  13:01:55    Payment related              Y   \n",
       "\n",
       "     Resolved  Speed of answer in seconds AvgTalkDuration  Satisfaction rating  \n",
       "1           N                        70.0        00:04:02                  3.0  \n",
       "33          N                        53.0        00:01:44                  2.0  \n",
       "36          N                        20.0        00:01:12                  2.0  \n",
       "65          N                        90.0        00:01:23                  4.0  \n",
       "72          N                        10.0        00:02:19                  5.0  \n",
       "...       ...                         ...             ...                  ...  \n",
       "4939        N                        27.0        00:06:48                  1.0  \n",
       "4957        N                       116.0        00:03:05                  4.0  \n",
       "4962        N                        22.0        00:04:45                  4.0  \n",
       "4985        N                        55.0        00:02:01                  1.0  \n",
       "4986        N                        10.0        00:02:26                  4.0  \n",
       "\n",
       "[408 rows x 10 columns]"
      ]
     },
     "execution_count": 26,
     "metadata": {},
     "output_type": "execute_result"
    }
   ],
   "source": [
    "# filtering all records where cases were not resolved\n",
    "\n",
    "unresolved_cases = df[df['Resolved'] =='N']\n",
    "unresolved_cases"
   ]
  },
  {
   "cell_type": "code",
   "execution_count": 27,
   "id": "98bee8a2",
   "metadata": {},
   "outputs": [
    {
     "data": {
      "text/html": [
       "<div>\n",
       "<style scoped>\n",
       "    .dataframe tbody tr th:only-of-type {\n",
       "        vertical-align: middle;\n",
       "    }\n",
       "\n",
       "    .dataframe tbody tr th {\n",
       "        vertical-align: top;\n",
       "    }\n",
       "\n",
       "    .dataframe thead th {\n",
       "        text-align: right;\n",
       "    }\n",
       "</style>\n",
       "<table border=\"1\" class=\"dataframe\">\n",
       "  <thead>\n",
       "    <tr style=\"text-align: right;\">\n",
       "      <th></th>\n",
       "      <th>index</th>\n",
       "      <th>Call Id</th>\n",
       "      <th>Agent</th>\n",
       "      <th>Date</th>\n",
       "      <th>Time</th>\n",
       "      <th>Topic</th>\n",
       "      <th>Answered (Y/N)</th>\n",
       "      <th>Resolved</th>\n",
       "      <th>Speed of answer in seconds</th>\n",
       "      <th>AvgTalkDuration</th>\n",
       "      <th>Satisfaction rating</th>\n",
       "    </tr>\n",
       "  </thead>\n",
       "  <tbody>\n",
       "    <tr>\n",
       "      <th>0</th>\n",
       "      <td>4120</td>\n",
       "      <td>ID4121</td>\n",
       "      <td>Becky</td>\n",
       "      <td>2021-03-14</td>\n",
       "      <td>09:00:00</td>\n",
       "      <td>Streaming</td>\n",
       "      <td>Y</td>\n",
       "      <td>Y</td>\n",
       "      <td>50.0</td>\n",
       "      <td>00:01:57</td>\n",
       "      <td>4.0</td>\n",
       "    </tr>\n",
       "    <tr>\n",
       "      <th>1</th>\n",
       "      <td>1712</td>\n",
       "      <td>ID1713</td>\n",
       "      <td>Dan</td>\n",
       "      <td>2021-01-31</td>\n",
       "      <td>09:00:00</td>\n",
       "      <td>Payment related</td>\n",
       "      <td>Y</td>\n",
       "      <td>N</td>\n",
       "      <td>100.0</td>\n",
       "      <td>00:06:22</td>\n",
       "      <td>5.0</td>\n",
       "    </tr>\n",
       "    <tr>\n",
       "      <th>2</th>\n",
       "      <td>1713</td>\n",
       "      <td>ID1714</td>\n",
       "      <td>Becky</td>\n",
       "      <td>2021-01-31</td>\n",
       "      <td>09:00:00</td>\n",
       "      <td>Payment related</td>\n",
       "      <td>Y</td>\n",
       "      <td>Y</td>\n",
       "      <td>114.0</td>\n",
       "      <td>00:05:42</td>\n",
       "      <td>4.0</td>\n",
       "    </tr>\n",
       "    <tr>\n",
       "      <th>3</th>\n",
       "      <td>2205</td>\n",
       "      <td>ID2206</td>\n",
       "      <td>Becky</td>\n",
       "      <td>2021-02-08</td>\n",
       "      <td>09:00:00</td>\n",
       "      <td>Contract related</td>\n",
       "      <td>Y</td>\n",
       "      <td>Y</td>\n",
       "      <td>17.0</td>\n",
       "      <td>00:05:49</td>\n",
       "      <td>4.0</td>\n",
       "    </tr>\n",
       "    <tr>\n",
       "      <th>4</th>\n",
       "      <td>399</td>\n",
       "      <td>ID0400</td>\n",
       "      <td>Jim</td>\n",
       "      <td>2021-01-08</td>\n",
       "      <td>09:00:00</td>\n",
       "      <td>Technical Support</td>\n",
       "      <td>Y</td>\n",
       "      <td>Y</td>\n",
       "      <td>86.0</td>\n",
       "      <td>00:00:37</td>\n",
       "      <td>4.0</td>\n",
       "    </tr>\n",
       "  </tbody>\n",
       "</table>\n",
       "</div>"
      ],
      "text/plain": [
       "   index Call Id  Agent        Date      Time              Topic  \\\n",
       "0   4120  ID4121  Becky  2021-03-14  09:00:00          Streaming   \n",
       "1   1712  ID1713    Dan  2021-01-31  09:00:00    Payment related   \n",
       "2   1713  ID1714  Becky  2021-01-31  09:00:00    Payment related   \n",
       "3   2205  ID2206  Becky  2021-02-08  09:00:00   Contract related   \n",
       "4    399  ID0400    Jim  2021-01-08  09:00:00  Technical Support   \n",
       "\n",
       "  Answered (Y/N) Resolved  Speed of answer in seconds AvgTalkDuration  \\\n",
       "0              Y        Y                        50.0        00:01:57   \n",
       "1              Y        N                       100.0        00:06:22   \n",
       "2              Y        Y                       114.0        00:05:42   \n",
       "3              Y        Y                        17.0        00:05:49   \n",
       "4              Y        Y                        86.0        00:00:37   \n",
       "\n",
       "   Satisfaction rating  \n",
       "0                  4.0  \n",
       "1                  5.0  \n",
       "2                  4.0  \n",
       "3                  4.0  \n",
       "4                  4.0  "
      ]
     },
     "execution_count": 27,
     "metadata": {},
     "output_type": "execute_result"
    }
   ],
   "source": [
    "# sorting dataframe by Time column\n",
    "chron_df = (df\n",
    "            .sort_values(by='Time')\n",
    "            .reset_index()\n",
    ")\n",
    "chron_df.head() # new df in chronological order of time"
   ]
  },
  {
   "cell_type": "code",
   "execution_count": 28,
   "id": "29b458a2",
   "metadata": {},
   "outputs": [
    {
     "data": {
      "text/html": [
       "<div>\n",
       "<style scoped>\n",
       "    .dataframe tbody tr th:only-of-type {\n",
       "        vertical-align: middle;\n",
       "    }\n",
       "\n",
       "    .dataframe tbody tr th {\n",
       "        vertical-align: top;\n",
       "    }\n",
       "\n",
       "    .dataframe thead th {\n",
       "        text-align: right;\n",
       "    }\n",
       "</style>\n",
       "<table border=\"1\" class=\"dataframe\">\n",
       "  <thead>\n",
       "    <tr style=\"text-align: right;\">\n",
       "      <th></th>\n",
       "      <th></th>\n",
       "      <th>count</th>\n",
       "    </tr>\n",
       "    <tr>\n",
       "      <th>Topic</th>\n",
       "      <th>Resolved</th>\n",
       "      <th></th>\n",
       "    </tr>\n",
       "  </thead>\n",
       "  <tbody>\n",
       "    <tr>\n",
       "      <th rowspan=\"2\" valign=\"top\">Admin Support</th>\n",
       "      <th>N</th>\n",
       "      <td>72</td>\n",
       "    </tr>\n",
       "    <tr>\n",
       "      <th>Y</th>\n",
       "      <td>723</td>\n",
       "    </tr>\n",
       "    <tr>\n",
       "      <th rowspan=\"2\" valign=\"top\">Contract related</th>\n",
       "      <th>N</th>\n",
       "      <td>80</td>\n",
       "    </tr>\n",
       "    <tr>\n",
       "      <th>Y</th>\n",
       "      <td>709</td>\n",
       "    </tr>\n",
       "    <tr>\n",
       "      <th rowspan=\"2\" valign=\"top\">Payment related</th>\n",
       "      <th>N</th>\n",
       "      <td>89</td>\n",
       "    </tr>\n",
       "    <tr>\n",
       "      <th>Y</th>\n",
       "      <td>729</td>\n",
       "    </tr>\n",
       "    <tr>\n",
       "      <th rowspan=\"2\" valign=\"top\">Streaming</th>\n",
       "      <th>N</th>\n",
       "      <td>98</td>\n",
       "    </tr>\n",
       "    <tr>\n",
       "      <th>Y</th>\n",
       "      <td>749</td>\n",
       "    </tr>\n",
       "    <tr>\n",
       "      <th rowspan=\"2\" valign=\"top\">Technical Support</th>\n",
       "      <th>N</th>\n",
       "      <td>69</td>\n",
       "    </tr>\n",
       "    <tr>\n",
       "      <th>Y</th>\n",
       "      <td>736</td>\n",
       "    </tr>\n",
       "  </tbody>\n",
       "</table>\n",
       "</div>"
      ],
      "text/plain": [
       "                            count\n",
       "Topic             Resolved       \n",
       "Admin Support     N            72\n",
       "                  Y           723\n",
       "Contract related  N            80\n",
       "                  Y           709\n",
       "Payment related   N            89\n",
       "                  Y           729\n",
       "Streaming         N            98\n",
       "                  Y           749\n",
       "Technical Support N            69\n",
       "                  Y           736"
      ]
     },
     "execution_count": 28,
     "metadata": {},
     "output_type": "execute_result"
    }
   ],
   "source": [
    "# group by Topic and Resolution\n",
    "\n",
    "(df\n",
    "    .groupby(['Topic', 'Resolved'])\n",
    "    .count()[['Call Id']]\n",
    "    .rename(columns={'Call Id':'count'})\n",
    ")"
   ]
  },
  {
   "cell_type": "code",
   "execution_count": 29,
   "id": "6206eb9f",
   "metadata": {},
   "outputs": [
    {
     "data": {
      "text/html": [
       "<div>\n",
       "<style scoped>\n",
       "    .dataframe tbody tr th:only-of-type {\n",
       "        vertical-align: middle;\n",
       "    }\n",
       "\n",
       "    .dataframe tbody tr th {\n",
       "        vertical-align: top;\n",
       "    }\n",
       "\n",
       "    .dataframe thead th {\n",
       "        text-align: right;\n",
       "    }\n",
       "</style>\n",
       "<table border=\"1\" class=\"dataframe\">\n",
       "  <thead>\n",
       "    <tr style=\"text-align: right;\">\n",
       "      <th></th>\n",
       "      <th>Topic</th>\n",
       "      <th>Resolved</th>\n",
       "      <th>count</th>\n",
       "    </tr>\n",
       "  </thead>\n",
       "  <tbody>\n",
       "    <tr>\n",
       "      <th>0</th>\n",
       "      <td>Admin Support</td>\n",
       "      <td>N</td>\n",
       "      <td>72</td>\n",
       "    </tr>\n",
       "    <tr>\n",
       "      <th>1</th>\n",
       "      <td>Admin Support</td>\n",
       "      <td>Y</td>\n",
       "      <td>723</td>\n",
       "    </tr>\n",
       "    <tr>\n",
       "      <th>2</th>\n",
       "      <td>Contract related</td>\n",
       "      <td>N</td>\n",
       "      <td>80</td>\n",
       "    </tr>\n",
       "    <tr>\n",
       "      <th>3</th>\n",
       "      <td>Contract related</td>\n",
       "      <td>Y</td>\n",
       "      <td>709</td>\n",
       "    </tr>\n",
       "    <tr>\n",
       "      <th>4</th>\n",
       "      <td>Payment related</td>\n",
       "      <td>N</td>\n",
       "      <td>89</td>\n",
       "    </tr>\n",
       "    <tr>\n",
       "      <th>5</th>\n",
       "      <td>Payment related</td>\n",
       "      <td>Y</td>\n",
       "      <td>729</td>\n",
       "    </tr>\n",
       "    <tr>\n",
       "      <th>6</th>\n",
       "      <td>Streaming</td>\n",
       "      <td>N</td>\n",
       "      <td>98</td>\n",
       "    </tr>\n",
       "    <tr>\n",
       "      <th>7</th>\n",
       "      <td>Streaming</td>\n",
       "      <td>Y</td>\n",
       "      <td>749</td>\n",
       "    </tr>\n",
       "    <tr>\n",
       "      <th>8</th>\n",
       "      <td>Technical Support</td>\n",
       "      <td>N</td>\n",
       "      <td>69</td>\n",
       "    </tr>\n",
       "    <tr>\n",
       "      <th>9</th>\n",
       "      <td>Technical Support</td>\n",
       "      <td>Y</td>\n",
       "      <td>736</td>\n",
       "    </tr>\n",
       "  </tbody>\n",
       "</table>\n",
       "</div>"
      ],
      "text/plain": [
       "               Topic Resolved  count\n",
       "0      Admin Support        N     72\n",
       "1      Admin Support        Y    723\n",
       "2   Contract related        N     80\n",
       "3   Contract related        Y    709\n",
       "4    Payment related        N     89\n",
       "5    Payment related        Y    729\n",
       "6          Streaming        N     98\n",
       "7          Streaming        Y    749\n",
       "8  Technical Support        N     69\n",
       "9  Technical Support        Y    736"
      ]
     },
     "execution_count": 29,
     "metadata": {},
     "output_type": "execute_result"
    }
   ],
   "source": [
    "# convert to tidy table\n",
    "(df\n",
    "    .groupby(['Topic', 'Resolved'])\n",
    "    .count()[['Call Id']]\n",
    "    .rename(columns={'Call Id':'count'})\n",
    "    .reset_index()\n",
    ")"
   ]
  },
  {
   "cell_type": "markdown",
   "id": "06a27510",
   "metadata": {},
   "source": [
    "#### Feature Engineering (6 marks):\n",
    "- Create a new feature based on existing features in the dataset.\n",
    "- Explain the rationale behind the feature engineering process."
   ]
  },
  {
   "cell_type": "code",
   "execution_count": 42,
   "id": "9d491e49",
   "metadata": {},
   "outputs": [],
   "source": [
    "# convert datetime.time object to timedelta object then convert to seconds\n",
    "\n",
    "df['AvgTalkDuration'] = pd.to_timedelta(df['AvgTalkDuration'].astype('str'))\n",
    "df['AvgTalkDuration Seconds']  = df['AvgTalkDuration'].dt.total_seconds()"
   ]
  },
  {
   "cell_type": "code",
   "execution_count": 43,
   "id": "c9020adb",
   "metadata": {
    "scrolled": true
   },
   "outputs": [
    {
     "data": {
      "text/plain": [
       "0       143.0\n",
       "1       242.0\n",
       "2       131.0\n",
       "3        37.0\n",
       "4        60.0\n",
       "        ...  \n",
       "4990    386.0\n",
       "4995    340.0\n",
       "4996    196.0\n",
       "4997    109.0\n",
       "4998     58.0\n",
       "Name: AvgTalkDuration Seconds, Length: 4054, dtype: float64"
      ]
     },
     "execution_count": 43,
     "metadata": {},
     "output_type": "execute_result"
    }
   ],
   "source": [
    "df['AvgTalkDuration Seconds']"
   ]
  },
  {
   "cell_type": "code",
   "execution_count": 32,
   "id": "7f4b530f",
   "metadata": {},
   "outputs": [
    {
     "data": {
      "text/plain": [
       "count    4054.000000\n",
       "mean      224.922792\n",
       "std       111.381555\n",
       "min        30.000000\n",
       "25%       130.000000\n",
       "50%       226.000000\n",
       "75%       319.000000\n",
       "max       420.000000\n",
       "Name: AvgTalkDuration Seconds, dtype: float64"
      ]
     },
     "execution_count": 32,
     "metadata": {},
     "output_type": "execute_result"
    }
   ],
   "source": [
    "# checking the min, max to inform how to bin the values\n",
    "df['AvgTalkDuration Seconds'].describe()"
   ]
  },
  {
   "cell_type": "code",
   "execution_count": 105,
   "id": "f75cbc57",
   "metadata": {
    "scrolled": true
   },
   "outputs": [
    {
     "data": {
      "text/plain": [
       "0    Medium\n",
       "1      Long\n",
       "2    Medium\n",
       "3     Short\n",
       "4     Short\n",
       "Name: AvgTalkDurationCategory, dtype: category\n",
       "Categories (3, object): ['Short' < 'Medium' < 'Long']"
      ]
     },
     "execution_count": 105,
     "metadata": {},
     "output_type": "execute_result"
    }
   ],
   "source": [
    "# Bin AvgTalkDuration into categories\n",
    "# Cut method is vectorised hence has better performance than other methods which iterate over each row\n",
    "df['AvgTalkDurationCategory'] = pd.cut(df['AvgTalkDuration Seconds'], bins=[0, 120, 240, float('inf')], labels=['Short', 'Medium', 'Long'])\n",
    "df['AvgTalkDurationCategory'].head()"
   ]
  },
  {
   "cell_type": "code",
   "execution_count": 34,
   "id": "03e7a04a",
   "metadata": {},
   "outputs": [
    {
     "data": {
      "text/plain": [
       "count    4054.000000\n",
       "mean       67.520720\n",
       "std        33.592872\n",
       "min        10.000000\n",
       "25%        39.000000\n",
       "50%        68.000000\n",
       "75%        97.000000\n",
       "max       125.000000\n",
       "Name: Speed of answer in seconds, dtype: float64"
      ]
     },
     "execution_count": 34,
     "metadata": {},
     "output_type": "execute_result"
    }
   ],
   "source": [
    "# checking the min, max to inform how to bin the values\n",
    "df['Speed of answer in seconds'].describe()"
   ]
  },
  {
   "cell_type": "code",
   "execution_count": 48,
   "id": "80b923df",
   "metadata": {},
   "outputs": [
    {
     "data": {
      "text/plain": [
       "0       Medium\n",
       "1       Medium\n",
       "2        Short\n",
       "3        Short\n",
       "4       Medium\n",
       "         ...  \n",
       "4990    Medium\n",
       "4995     Short\n",
       "4996    Medium\n",
       "4997    Medium\n",
       "4998    Medium\n",
       "Name: Speed of Answer Category, Length: 4054, dtype: category\n",
       "Categories (3, object): ['Short' < 'Medium' < 'Long']"
      ]
     },
     "execution_count": 48,
     "metadata": {},
     "output_type": "execute_result"
    }
   ],
   "source": [
    "df['Speed of Answer Category'] = pd.cut(x=df['Speed of answer in seconds'], bins=[0, 60, 120, float('inf')], labels=['Short', 'Medium', 'Long'])\n",
    "df['Speed of Answer Category']"
   ]
  },
  {
   "cell_type": "code",
   "execution_count": 49,
   "id": "16f17942",
   "metadata": {},
   "outputs": [],
   "source": [
    "df['Satisfaction rating'] = df['Satisfaction rating'].astype('category')"
   ]
  },
  {
   "cell_type": "code",
   "execution_count": 50,
   "id": "b6582097",
   "metadata": {},
   "outputs": [],
   "source": [
    "ratings = sorted(list(df['Satisfaction rating'].unique()))\n",
    "\n",
    "# convert Satisfaction rating to categorical feature to capture the ordering\n",
    "df['Satisfaction rating'] = pd.Categorical(values=df['Satisfaction rating'], categories=ratings, ordered=True).copy()"
   ]
  },
  {
   "cell_type": "markdown",
   "id": "3a40917b",
   "metadata": {},
   "source": [
    "#### Rationale for new categorical features\n",
    "The rationale is, we anticipate to do some categorical statistical tests with talk times and answer times hence the need to create a categorical version of them derived from the continuous variables. By converting average talk duration and speed of answer into categorical ranges we can then do a chi-square test of `Average talk Duration Category` vs `Satisfaction rating` or `Speed of Answer Category` vs `Satisfaction rating`\n"
   ]
  },
  {
   "cell_type": "code",
   "execution_count": null,
   "id": "7fa5f4ec",
   "metadata": {},
   "outputs": [],
   "source": [
    "# conditions = [\n",
    "#     (df['AvgTalkDuration Seconds'] < 180 ),\n",
    "#     (df['AvgTalkDuration Seconds'] >= 180)\n",
    "# ]\n",
    "\n",
    "# condition_labels = [\n",
    "#     'Under 3 minutes',\n",
    "#     'Over 3 minutes'\n",
    "# ]"
   ]
  },
  {
   "cell_type": "code",
   "execution_count": null,
   "id": "ac752ce4",
   "metadata": {},
   "outputs": [],
   "source": [
    "# # engineer a new categorical AvgTalkDuration feature \n",
    "# df['talk_time'] = np.select(conditions, condition_labels)"
   ]
  },
  {
   "cell_type": "code",
   "execution_count": 60,
   "id": "d20fcf0e",
   "metadata": {},
   "outputs": [
    {
     "data": {
      "text/html": [
       "<div>\n",
       "<style scoped>\n",
       "    .dataframe tbody tr th:only-of-type {\n",
       "        vertical-align: middle;\n",
       "    }\n",
       "\n",
       "    .dataframe tbody tr th {\n",
       "        vertical-align: top;\n",
       "    }\n",
       "\n",
       "    .dataframe thead th {\n",
       "        text-align: right;\n",
       "    }\n",
       "</style>\n",
       "<table border=\"1\" class=\"dataframe\">\n",
       "  <thead>\n",
       "    <tr style=\"text-align: right;\">\n",
       "      <th></th>\n",
       "      <th>Call Id</th>\n",
       "      <th>Agent</th>\n",
       "      <th>Date</th>\n",
       "      <th>Time</th>\n",
       "      <th>Topic</th>\n",
       "      <th>Answered (Y/N)</th>\n",
       "      <th>Resolved</th>\n",
       "      <th>Speed of answer in seconds</th>\n",
       "      <th>AvgTalkDuration</th>\n",
       "      <th>Satisfaction rating</th>\n",
       "      <th>AvgTalkDuration Seconds</th>\n",
       "      <th>AvgTalkDurationCategory</th>\n",
       "      <th>Speed of Answer Category</th>\n",
       "    </tr>\n",
       "  </thead>\n",
       "  <tbody>\n",
       "    <tr>\n",
       "      <th>0</th>\n",
       "      <td>ID0001</td>\n",
       "      <td>Diane</td>\n",
       "      <td>2021-01-01</td>\n",
       "      <td>09:12:58</td>\n",
       "      <td>Contract related</td>\n",
       "      <td>Y</td>\n",
       "      <td>Y</td>\n",
       "      <td>109.0</td>\n",
       "      <td>0 days 00:02:23</td>\n",
       "      <td>3.0</td>\n",
       "      <td>143.0</td>\n",
       "      <td>Medium</td>\n",
       "      <td>Medium</td>\n",
       "    </tr>\n",
       "    <tr>\n",
       "      <th>1</th>\n",
       "      <td>ID0002</td>\n",
       "      <td>Becky</td>\n",
       "      <td>2021-01-01</td>\n",
       "      <td>09:12:58</td>\n",
       "      <td>Technical Support</td>\n",
       "      <td>Y</td>\n",
       "      <td>N</td>\n",
       "      <td>70.0</td>\n",
       "      <td>0 days 00:04:02</td>\n",
       "      <td>3.0</td>\n",
       "      <td>242.0</td>\n",
       "      <td>Long</td>\n",
       "      <td>Medium</td>\n",
       "    </tr>\n",
       "    <tr>\n",
       "      <th>2</th>\n",
       "      <td>ID0003</td>\n",
       "      <td>Stewart</td>\n",
       "      <td>2021-01-01</td>\n",
       "      <td>09:47:31</td>\n",
       "      <td>Contract related</td>\n",
       "      <td>Y</td>\n",
       "      <td>Y</td>\n",
       "      <td>10.0</td>\n",
       "      <td>0 days 00:02:11</td>\n",
       "      <td>3.0</td>\n",
       "      <td>131.0</td>\n",
       "      <td>Medium</td>\n",
       "      <td>Short</td>\n",
       "    </tr>\n",
       "    <tr>\n",
       "      <th>3</th>\n",
       "      <td>ID0004</td>\n",
       "      <td>Greg</td>\n",
       "      <td>2021-01-01</td>\n",
       "      <td>09:47:31</td>\n",
       "      <td>Contract related</td>\n",
       "      <td>Y</td>\n",
       "      <td>Y</td>\n",
       "      <td>53.0</td>\n",
       "      <td>0 days 00:00:37</td>\n",
       "      <td>2.0</td>\n",
       "      <td>37.0</td>\n",
       "      <td>Short</td>\n",
       "      <td>Short</td>\n",
       "    </tr>\n",
       "    <tr>\n",
       "      <th>4</th>\n",
       "      <td>ID0005</td>\n",
       "      <td>Becky</td>\n",
       "      <td>2021-01-01</td>\n",
       "      <td>10:00:29</td>\n",
       "      <td>Payment related</td>\n",
       "      <td>Y</td>\n",
       "      <td>Y</td>\n",
       "      <td>95.0</td>\n",
       "      <td>0 days 00:01:00</td>\n",
       "      <td>3.0</td>\n",
       "      <td>60.0</td>\n",
       "      <td>Short</td>\n",
       "      <td>Medium</td>\n",
       "    </tr>\n",
       "  </tbody>\n",
       "</table>\n",
       "</div>"
      ],
      "text/plain": [
       "  Call Id    Agent        Date      Time              Topic Answered (Y/N)  \\\n",
       "0  ID0001    Diane  2021-01-01  09:12:58   Contract related              Y   \n",
       "1  ID0002    Becky  2021-01-01  09:12:58  Technical Support              Y   \n",
       "2  ID0003  Stewart  2021-01-01  09:47:31   Contract related              Y   \n",
       "3  ID0004     Greg  2021-01-01  09:47:31   Contract related              Y   \n",
       "4  ID0005    Becky  2021-01-01  10:00:29    Payment related              Y   \n",
       "\n",
       "  Resolved  Speed of answer in seconds AvgTalkDuration Satisfaction rating  \\\n",
       "0        Y                       109.0 0 days 00:02:23                 3.0   \n",
       "1        N                        70.0 0 days 00:04:02                 3.0   \n",
       "2        Y                        10.0 0 days 00:02:11                 3.0   \n",
       "3        Y                        53.0 0 days 00:00:37                 2.0   \n",
       "4        Y                        95.0 0 days 00:01:00                 3.0   \n",
       "\n",
       "   AvgTalkDuration Seconds AvgTalkDurationCategory Speed of Answer Category  \n",
       "0                    143.0                  Medium                   Medium  \n",
       "1                    242.0                    Long                   Medium  \n",
       "2                    131.0                  Medium                    Short  \n",
       "3                     37.0                   Short                    Short  \n",
       "4                     60.0                   Short                   Medium  "
      ]
     },
     "execution_count": 60,
     "metadata": {},
     "output_type": "execute_result"
    }
   ],
   "source": [
    "df.head()"
   ]
  },
  {
   "cell_type": "markdown",
   "id": "e9d5dfca",
   "metadata": {},
   "source": [
    "## \tInferential Statistics (6 marks):\n",
    "- Formulate a hypothesis related to the dataset.\n",
    "- Conduct a statistical test (e.g., t-test) to test the hypothesis.\n",
    "- Provide conclusions based on the test results.\n"
   ]
  },
  {
   "cell_type": "markdown",
   "id": "af611df8",
   "metadata": {},
   "source": [
    "#### The null hypothesis (H0): There is a significant relationship between average talk duration and satisfaction rating\n",
    "#### The alternate hypothesis (Ha): There is no significant relationship between average talk duration and satisfaction rating"
   ]
  },
  {
   "cell_type": "markdown",
   "id": "4baabe17",
   "metadata": {},
   "source": [
    "## Conducting a chi-square test on averaget talk time and satisftaction rating\n",
    "\n",
    "Used the non-parametric chi-square test since it does not make assumptions about the underlying distribution of the data"
   ]
  },
  {
   "cell_type": "markdown",
   "id": "0f33676c",
   "metadata": {},
   "source": [
    "## Contingency Table"
   ]
  },
  {
   "cell_type": "code",
   "execution_count": 53,
   "id": "5b09fb0f",
   "metadata": {},
   "outputs": [],
   "source": [
    "from scipy.stats import chi2_contingency"
   ]
  },
  {
   "cell_type": "code",
   "execution_count": 54,
   "id": "b4e56f7e",
   "metadata": {},
   "outputs": [
    {
     "data": {
      "text/html": [
       "<div>\n",
       "<style scoped>\n",
       "    .dataframe tbody tr th:only-of-type {\n",
       "        vertical-align: middle;\n",
       "    }\n",
       "\n",
       "    .dataframe tbody tr th {\n",
       "        vertical-align: top;\n",
       "    }\n",
       "\n",
       "    .dataframe thead th {\n",
       "        text-align: right;\n",
       "    }\n",
       "</style>\n",
       "<table border=\"1\" class=\"dataframe\">\n",
       "  <thead>\n",
       "    <tr style=\"text-align: right;\">\n",
       "      <th>AvgTalkDurationCategory</th>\n",
       "      <th>Short</th>\n",
       "      <th>Medium</th>\n",
       "      <th>Long</th>\n",
       "    </tr>\n",
       "    <tr>\n",
       "      <th>Satisfaction rating</th>\n",
       "      <th></th>\n",
       "      <th></th>\n",
       "      <th></th>\n",
       "    </tr>\n",
       "  </thead>\n",
       "  <tbody>\n",
       "    <tr>\n",
       "      <th>1.0</th>\n",
       "      <td>86</td>\n",
       "      <td>144</td>\n",
       "      <td>187</td>\n",
       "    </tr>\n",
       "    <tr>\n",
       "      <th>2.0</th>\n",
       "      <td>82</td>\n",
       "      <td>131</td>\n",
       "      <td>183</td>\n",
       "    </tr>\n",
       "    <tr>\n",
       "      <th>3.0</th>\n",
       "      <td>257</td>\n",
       "      <td>379</td>\n",
       "      <td>582</td>\n",
       "    </tr>\n",
       "    <tr>\n",
       "      <th>4.0</th>\n",
       "      <td>278</td>\n",
       "      <td>365</td>\n",
       "      <td>537</td>\n",
       "    </tr>\n",
       "    <tr>\n",
       "      <th>5.0</th>\n",
       "      <td>200</td>\n",
       "      <td>248</td>\n",
       "      <td>395</td>\n",
       "    </tr>\n",
       "  </tbody>\n",
       "</table>\n",
       "</div>"
      ],
      "text/plain": [
       "AvgTalkDurationCategory  Short  Medium  Long\n",
       "Satisfaction rating                         \n",
       "1.0                         86     144   187\n",
       "2.0                         82     131   183\n",
       "3.0                        257     379   582\n",
       "4.0                        278     365   537\n",
       "5.0                        200     248   395"
      ]
     },
     "execution_count": 54,
     "metadata": {},
     "output_type": "execute_result"
    }
   ],
   "source": [
    "con_tab = pd.crosstab(df['Satisfaction rating'], df['AvgTalkDurationCategory'])\n",
    "con_tab"
   ]
  },
  {
   "cell_type": "code",
   "execution_count": 57,
   "id": "57db7a8b",
   "metadata": {},
   "outputs": [],
   "source": [
    "chisquare, pval, _, _ = chi2_contingency(con_tab)"
   ]
  },
  {
   "cell_type": "code",
   "execution_count": 58,
   "id": "26ddf744",
   "metadata": {},
   "outputs": [
    {
     "name": "stdout",
     "output_type": "stream",
     "text": [
      "The p-value is: 0.5215746439355933\n",
      "Fail to reject H0\n"
     ]
    }
   ],
   "source": [
    "# H0: There is no relationship between Average talk time and Satisfaction rating\n",
    "# Ha: There is a relationship between Average talk time and Satisfaction rating\n",
    "\n",
    "print(f'The p-value is: {pval}')\n",
    "if pval < 0.05:\n",
    "    print('Reject H0. Go with Ha')\n",
    "else:\n",
    "    print('Fail to reject H0')"
   ]
  },
  {
   "cell_type": "markdown",
   "id": "d8b59e83",
   "metadata": {},
   "source": [
    "## Conclusion\n",
    "The p-value is `0.522` which is way bigger than `0.05` hence we fail to reject the null hypothesis and conlcude that there is no relationship between average talk time and satisfaction rating."
   ]
  },
  {
   "cell_type": "code",
   "execution_count": 61,
   "id": "88ac6e18",
   "metadata": {},
   "outputs": [
    {
     "data": {
      "text/html": [
       "<div>\n",
       "<style scoped>\n",
       "    .dataframe tbody tr th:only-of-type {\n",
       "        vertical-align: middle;\n",
       "    }\n",
       "\n",
       "    .dataframe tbody tr th {\n",
       "        vertical-align: top;\n",
       "    }\n",
       "\n",
       "    .dataframe thead th {\n",
       "        text-align: right;\n",
       "    }\n",
       "</style>\n",
       "<table border=\"1\" class=\"dataframe\">\n",
       "  <thead>\n",
       "    <tr style=\"text-align: right;\">\n",
       "      <th>Speed of Answer Category</th>\n",
       "      <th>Short</th>\n",
       "      <th>Medium</th>\n",
       "      <th>Long</th>\n",
       "    </tr>\n",
       "    <tr>\n",
       "      <th>Satisfaction rating</th>\n",
       "      <th></th>\n",
       "      <th></th>\n",
       "      <th></th>\n",
       "    </tr>\n",
       "  </thead>\n",
       "  <tbody>\n",
       "    <tr>\n",
       "      <th>1.0</th>\n",
       "      <td>191</td>\n",
       "      <td>202</td>\n",
       "      <td>24</td>\n",
       "    </tr>\n",
       "    <tr>\n",
       "      <th>2.0</th>\n",
       "      <td>172</td>\n",
       "      <td>208</td>\n",
       "      <td>16</td>\n",
       "    </tr>\n",
       "    <tr>\n",
       "      <th>3.0</th>\n",
       "      <td>537</td>\n",
       "      <td>627</td>\n",
       "      <td>54</td>\n",
       "    </tr>\n",
       "    <tr>\n",
       "      <th>4.0</th>\n",
       "      <td>527</td>\n",
       "      <td>602</td>\n",
       "      <td>51</td>\n",
       "    </tr>\n",
       "    <tr>\n",
       "      <th>5.0</th>\n",
       "      <td>369</td>\n",
       "      <td>443</td>\n",
       "      <td>31</td>\n",
       "    </tr>\n",
       "  </tbody>\n",
       "</table>\n",
       "</div>"
      ],
      "text/plain": [
       "Speed of Answer Category  Short  Medium  Long\n",
       "Satisfaction rating                          \n",
       "1.0                         191     202    24\n",
       "2.0                         172     208    16\n",
       "3.0                         537     627    54\n",
       "4.0                         527     602    51\n",
       "5.0                         369     443    31"
      ]
     },
     "execution_count": 61,
     "metadata": {},
     "output_type": "execute_result"
    }
   ],
   "source": [
    "con_tab_2 = pd.crosstab(df['Satisfaction rating'], df['Speed of Answer Category'])\n",
    "con_tab_2"
   ]
  },
  {
   "cell_type": "code",
   "execution_count": 64,
   "id": "570a7674",
   "metadata": {},
   "outputs": [],
   "source": [
    "chisquare, pval, _, _ = chi2_contingency(con_tab_2)"
   ]
  },
  {
   "cell_type": "code",
   "execution_count": 65,
   "id": "2f44dc38",
   "metadata": {},
   "outputs": [
    {
     "name": "stdout",
     "output_type": "stream",
     "text": [
      "The p-value is: 0.8268459808252262\n",
      "Fail to reject H0\n"
     ]
    }
   ],
   "source": [
    "# H0: There is no relationship between Average talk time and Satisfaction rating\n",
    "# Ha: There is a relationship between Average talk time and Satisfaction rating\n",
    "\n",
    "print(f'The p-value is: {pval}')\n",
    "if pval < 0.05:\n",
    "    print('Reject H0. Go with Ha')\n",
    "else:\n",
    "    print('Fail to reject H0')"
   ]
  },
  {
   "cell_type": "markdown",
   "id": "2a0e6307",
   "metadata": {},
   "source": [
    "## Conclusion\n",
    "The p-value is `0.827` which is also way bigger than `0.05` hence we fail to reject the null hypothesis and conlcude that there is no relationship between speed of answer and satisfaction rating."
   ]
  },
  {
   "cell_type": "markdown",
   "id": "229491e8",
   "metadata": {},
   "source": [
    "## Mann-Whitney U test for independent samples"
   ]
  },
  {
   "cell_type": "code",
   "execution_count": 111,
   "id": "2abfe342",
   "metadata": {},
   "outputs": [],
   "source": [
    "from datetime import datetime\n",
    "from scipy.stats import mannwhitneyu"
   ]
  },
  {
   "cell_type": "code",
   "execution_count": 67,
   "id": "2290a90f",
   "metadata": {},
   "outputs": [],
   "source": [
    "# convert datetime.time object to timedelta object\n",
    "\n",
    "df['AvgTalkDuration'] = pd.to_timedelta(df['AvgTalkDuration'].astype('str'))"
   ]
  },
  {
   "cell_type": "code",
   "execution_count": 68,
   "id": "2d958a41",
   "metadata": {},
   "outputs": [],
   "source": [
    "df['AvgTalkDuration Seconds']  = df['AvgTalkDuration'].dt.total_seconds()"
   ]
  },
  {
   "cell_type": "code",
   "execution_count": 72,
   "id": "d4d994e1",
   "metadata": {},
   "outputs": [],
   "source": [
    "# seperate the samples\n",
    "resolved = df[df['Resolved'] == 'Y']\n",
    "nresolved = df[df['Resolved'] == 'N']"
   ]
  },
  {
   "cell_type": "code",
   "execution_count": 113,
   "id": "920dc5c7",
   "metadata": {},
   "outputs": [],
   "source": [
    "statistic, p_value_mwu = mannwhitneyu(resolved['AvgTalkDuration Seconds'], nresolved['AvgTalkDuration Seconds'])"
   ]
  },
  {
   "cell_type": "code",
   "execution_count": 114,
   "id": "bbc47d64",
   "metadata": {},
   "outputs": [
    {
     "data": {
      "text/plain": [
       "(753500.5, 0.6647552130849845)"
      ]
     },
     "execution_count": 114,
     "metadata": {},
     "output_type": "execute_result"
    }
   ],
   "source": [
    "statistic, p_value_mwu"
   ]
  },
  {
   "cell_type": "code",
   "execution_count": 115,
   "id": "e06879b2",
   "metadata": {},
   "outputs": [
    {
     "name": "stdout",
     "output_type": "stream",
     "text": [
      "The p-value is: 0.6651860487023187\n",
      "Fail to reject H0\n"
     ]
    }
   ],
   "source": [
    "# H0: The central tendency of samples Resolved issues and Unresolved is similar\n",
    "# Ha: The central tendency of samples Resolved issues and Unresolved is not similar\n",
    "\n",
    "print(f'The p-value is: {pval}')\n",
    "if p_val < 0.05:\n",
    "    print('Reject H0. Go with Ha')\n",
    "else:\n",
    "    print('Fail to reject H0')"
   ]
  },
  {
   "cell_type": "markdown",
   "id": "bb12c814",
   "metadata": {},
   "source": [
    "#### Based on the Mann-Whitney U test we fail to reject the null hypothesis"
   ]
  },
  {
   "cell_type": "markdown",
   "id": "b08f01dc",
   "metadata": {},
   "source": [
    "## Task 4: Exploratory Data Analysis (15 marks)\n",
    "#### Data Visualization (8 marks):\n",
    "- Create at least three visualizations (e.g., histograms, scatter plots, box plots) to explore relationships within the dataset.\n",
    "- Include appropriate labels and titles for clarity."
   ]
  },
  {
   "cell_type": "code",
   "execution_count": 88,
   "id": "ef1fd45d",
   "metadata": {},
   "outputs": [
    {
     "data": {
      "image/png": "[encoded data removed]",
      "text/plain": [
       "<Figure size 1000x1000 with 3 Axes>"
      ]
     },
     "metadata": {},
     "output_type": "display_data"
    }
   ],
   "source": [
    "# Checking the distribution of Average talk time and Speed of Answer\n",
    "plt.figure(figsize=(10,10))\n",
    "\n",
    "plt.subplot(2,2,1)\n",
    "sns.histplot(data=df, x=df['AvgTalkDuration Seconds'], kde=True)\n",
    "plt.title('Histogram of Average Talk Duration\\n(Seconds)')\n",
    "plt.xlabel('Average Talk Time')\n",
    "plt.ylabel('Freq')\n",
    "\n",
    "plt.subplot(2,2,2)\n",
    "sns.histplot(data=df, x=df['Speed of answer in seconds'], kde=True)\n",
    "plt.title('Histogram of Speed of Answer\\n(Seconds)')\n",
    "plt.xlabel('Speed of Answer')\n",
    "plt.ylabel('Freq')\n",
    "\n",
    "plt.subplot(2,2,3)\n",
    "sns.boxplot(data=df, y='AvgTalkDuration Seconds', x='Satisfaction rating', orient='v');"
   ]
  },
  {
   "cell_type": "code",
   "execution_count": 91,
   "id": "550a7f09",
   "metadata": {},
   "outputs": [
    {
     "data": {
      "image/png": "[encoded data removed]",
      "text/plain": [
       "<Figure size 1000x500 with 1 Axes>"
      ]
     },
     "metadata": {},
     "output_type": "display_data"
    }
   ],
   "source": [
    "plt.figure(figsize = (10, 5))\n",
    "sns.scatterplot(x='Speed of answer in seconds', y='AvgTalkDuration Seconds', data=df)\n",
    "plt.title('Scatter Plot:Speed of answer in seconds vs Average Talk Duration in Seconds')\n",
    "plt.xlabel('Speed of answer in seconds\\n(Seconds)')\n",
    "plt.ylabel('Average Talk Duration\\n(Seconds)')\n",
    "plt.show()"
   ]
  },
  {
   "cell_type": "markdown",
   "id": "f3b2337d",
   "metadata": {},
   "source": [
    "#### The scatter graph above shows no correlation between Speed of answer in seconds and Average Talk Duration in Seconds"
   ]
  },
  {
   "cell_type": "code",
   "execution_count": 101,
   "id": "c92e297e",
   "metadata": {},
   "outputs": [
    {
     "data": {
      "image/png": "[encoded data removed]",
      "text/plain": [
       "<Figure size 640x480 with 1 Axes>"
      ]
     },
     "metadata": {},
     "output_type": "display_data"
    }
   ],
   "source": [
    "df['Satisfaction rating'].value_counts().plot(kind='bar')\n",
    "plt.title('# of Customer by Satifaction Rating')\n",
    "plt.ylabel('# of Customers')\n",
    "plt.xlabel('Rating');"
   ]
  },
  {
   "cell_type": "code",
   "execution_count": 109,
   "id": "87f43dd7",
   "metadata": {},
   "outputs": [
    {
     "data": {
      "image/png": "[encoded data removed]",
      "text/plain": [
       "<Figure size 640x480 with 1 Axes>"
      ]
     },
     "metadata": {},
     "output_type": "display_data"
    }
   ],
   "source": [
    "sns.boxplot(data=df, y='AvgTalkDuration Seconds', x='Satisfaction rating', orient='v');"
   ]
  },
  {
   "cell_type": "code",
   "execution_count": 110,
   "id": "24fc559c",
   "metadata": {},
   "outputs": [],
   "source": [
    "# The graph shows no outliers"
   ]
  },
  {
   "cell_type": "markdown",
   "id": "fad6a056",
   "metadata": {},
   "source": [
    "#### Outlier Detection (5 marks):\n",
    "- Identify and handle outliers in the dataset.\n",
    "- Explain the methodology and reasoning behind your approach."
   ]
  },
  {
   "cell_type": "markdown",
   "id": "3889ec37",
   "metadata": {},
   "source": [
    "$$\n",
    "\\text{Outlier Detection Formula: } \\\\\n",
    "\\text{Lower bound} = Q1 - 1.5 \\times IQR \\\\\n",
    "\\text{Upper bound} = Q3 + 1.5 \\times IQR \\\\\n",
    "\\text{where} \\\\\n",
    "Q1 = \\text{First Quartile} \\\\\n",
    "Q3 = \\text{Third Quartile} \\\\\n",
    "IQR = Q3 - Q1 \\\\\n",
    "$$"
   ]
  },
  {
   "cell_type": "code",
   "execution_count": 126,
   "id": "d080d0c7",
   "metadata": {},
   "outputs": [],
   "source": [
    "# extract Q1 & Q2\n",
    "\n",
    "Q1 = df['AvgTalkDuration Seconds'].quantile(.25)\n",
    "Q3 = df['AvgTalkDuration Seconds'].quantile(.75)\n",
    "\n",
    "# calculate IQR = Q3-Q1\n",
    "IQR = Q3 - Q1\n",
    "\n",
    "# set low and hi bounds\n",
    "low = Q1 - 1.5 * IQR\n",
    "hi = Q3 + 1.5 * IQR"
   ]
  },
  {
   "cell_type": "code",
   "execution_count": 127,
   "id": "ce874b40",
   "metadata": {},
   "outputs": [
    {
     "data": {
      "text/plain": [
       "(-153.5, 602.5)"
      ]
     },
     "execution_count": 127,
     "metadata": {},
     "output_type": "execute_result"
    }
   ],
   "source": [
    "low, hi"
   ]
  },
  {
   "cell_type": "code",
   "execution_count": 129,
   "id": "18dfc213",
   "metadata": {},
   "outputs": [
    {
     "data": {
      "text/html": [
       "<div>\n",
       "<style scoped>\n",
       "    .dataframe tbody tr th:only-of-type {\n",
       "        vertical-align: middle;\n",
       "    }\n",
       "\n",
       "    .dataframe tbody tr th {\n",
       "        vertical-align: top;\n",
       "    }\n",
       "\n",
       "    .dataframe thead th {\n",
       "        text-align: right;\n",
       "    }\n",
       "</style>\n",
       "<table border=\"1\" class=\"dataframe\">\n",
       "  <thead>\n",
       "    <tr style=\"text-align: right;\">\n",
       "      <th></th>\n",
       "      <th>Call Id</th>\n",
       "      <th>Agent</th>\n",
       "      <th>Date</th>\n",
       "      <th>Time</th>\n",
       "      <th>Topic</th>\n",
       "      <th>Answered (Y/N)</th>\n",
       "      <th>Resolved</th>\n",
       "      <th>Speed of answer in seconds</th>\n",
       "      <th>AvgTalkDuration</th>\n",
       "      <th>Satisfaction rating</th>\n",
       "      <th>AvgTalkDuration Seconds</th>\n",
       "      <th>AvgTalkDurationCategory</th>\n",
       "      <th>Speed of Answer Category</th>\n",
       "    </tr>\n",
       "  </thead>\n",
       "  <tbody>\n",
       "  </tbody>\n",
       "</table>\n",
       "</div>"
      ],
      "text/plain": [
       "Empty DataFrame\n",
       "Columns: [Call Id, Agent, Date, Time, Topic, Answered (Y/N), Resolved, Speed of answer in seconds, AvgTalkDuration, Satisfaction rating, AvgTalkDuration Seconds, AvgTalkDurationCategory, Speed of Answer Category]\n",
       "Index: []"
      ]
     },
     "execution_count": 129,
     "metadata": {},
     "output_type": "execute_result"
    }
   ],
   "source": [
    "outliers = df[(df['AvgTalkDuration Seconds'] < low) | (df['AvgTalkDuration Seconds'] > hi)]\n",
    "outliers"
   ]
  },
  {
   "cell_type": "markdown",
   "id": "c0e8b04a",
   "metadata": {},
   "source": [
    "#### Graphically using a box plot we did not see any outliers as well as using the Inter Quartile Range technique"
   ]
  },
  {
   "cell_type": "markdown",
   "id": "0156e8c6",
   "metadata": {},
   "source": [
    "#### Correlation Analysis (2 marks):\n",
    "- Compute and interpret the correlation between two relevant variables in the dataset.\n"
   ]
  },
  {
   "cell_type": "code",
   "execution_count": 98,
   "id": "8c48ceda",
   "metadata": {},
   "outputs": [
    {
     "data": {
      "image/png": "[encoded data removed]",
      "text/plain": [
       "<Figure size 640x480 with 2 Axes>"
      ]
     },
     "metadata": {},
     "output_type": "display_data"
    }
   ],
   "source": [
    "correlation = df.corr(numeric_only=True)\n",
    "sns.heatmap(correlation);"
   ]
  },
  {
   "cell_type": "code",
   "execution_count": 106,
   "id": "a0b866fd",
   "metadata": {},
   "outputs": [
    {
     "data": {
      "text/html": [
       "<div>\n",
       "<style scoped>\n",
       "    .dataframe tbody tr th:only-of-type {\n",
       "        vertical-align: middle;\n",
       "    }\n",
       "\n",
       "    .dataframe tbody tr th {\n",
       "        vertical-align: top;\n",
       "    }\n",
       "\n",
       "    .dataframe thead th {\n",
       "        text-align: right;\n",
       "    }\n",
       "</style>\n",
       "<table border=\"1\" class=\"dataframe\">\n",
       "  <thead>\n",
       "    <tr style=\"text-align: right;\">\n",
       "      <th></th>\n",
       "      <th>Speed of answer in seconds</th>\n",
       "      <th>AvgTalkDuration Seconds</th>\n",
       "    </tr>\n",
       "  </thead>\n",
       "  <tbody>\n",
       "    <tr>\n",
       "      <th>Speed of answer in seconds</th>\n",
       "      <td>1.000000</td>\n",
       "      <td>-0.002898</td>\n",
       "    </tr>\n",
       "    <tr>\n",
       "      <th>AvgTalkDuration Seconds</th>\n",
       "      <td>-0.002898</td>\n",
       "      <td>1.000000</td>\n",
       "    </tr>\n",
       "  </tbody>\n",
       "</table>\n",
       "</div>"
      ],
      "text/plain": [
       "                            Speed of answer in seconds  \\\n",
       "Speed of answer in seconds                    1.000000   \n",
       "AvgTalkDuration Seconds                      -0.002898   \n",
       "\n",
       "                            AvgTalkDuration Seconds  \n",
       "Speed of answer in seconds                -0.002898  \n",
       "AvgTalkDuration Seconds                    1.000000  "
      ]
     },
     "execution_count": 106,
     "metadata": {},
     "output_type": "execute_result"
    }
   ],
   "source": [
    "correlation"
   ]
  },
  {
   "cell_type": "markdown",
   "id": "adb5d562",
   "metadata": {},
   "source": [
    "#### The correlation matrix above affirms that there is no correlation between Speed of answer in seconds and Average Talk Duration in Seconds\n",
    "This shows a very weak negative correlation close to **0**"
   ]
  },
  {
   "cell_type": "code",
   "execution_count": null,
   "id": "fc4e7571",
   "metadata": {},
   "outputs": [],
   "source": []
  }
 ],
 "metadata": {
  "kernelspec": {
   "display_name": "Python 3 (ipykernel)",
   "language": "python",
   "name": "python3"
  },
  "language_info": {
   "codemirror_mode": {
    "name": "ipython",
    "version": 3
   },
   "file_extension": ".py",
   "mimetype": "text/x-python",
   "name": "python",
   "nbconvert_exporter": "python",
   "pygments_lexer": "ipython3",
   "version": "3.10.11"
  }
 },
 "nbformat": 4,
 "nbformat_minor": 5
}
